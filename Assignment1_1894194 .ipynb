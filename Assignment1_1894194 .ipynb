{
  "cells": [
    {
      "cell_type": "markdown",
      "metadata": {
        "id": "95OA1qbex5e7"
      },
      "source": [
        "**Step1:** Data Loading and format conversion"
      ]
    },
    {
      "cell_type": "code",
      "execution_count": 1,
      "metadata": {
        "id": "XthLu0dyaupW"
      },
      "outputs": [],
      "source": [
        "import pandas as pd\n",
        "import torch\n",
        "import torch.nn as nn\n",
        "import torch.optim as optim\n",
        "from sklearn.preprocessing import StandardScaler\n",
        "from sklearn.metrics import confusion_matrix, roc_curve, auc\n",
        "import matplotlib.pyplot as plt\n",
        "import seaborn as sns"
      ]
    },
    {
      "cell_type": "code",
      "execution_count": 10,
      "metadata": {
        "colab": {
          "base_uri": "https://localhost:8080/"
        },
        "id": "2xDH7GIaFise",
        "outputId": "1694bf68-6061-45ac-e9b2-a534297b5397"
      },
      "outputs": [
        {
          "name": "stdout",
          "output_type": "stream",
          "text": [
            "Data being converted and saved as diabetes_scale.csv\n"
          ]
        }
      ],
      "source": [
        "import csv\n",
        "\n",
        "# File for input and output datasets\n",
        "dataset1 = 'diabetes_scale.txt'\n",
        "dataset2 = 'diabetes_scale.csv'\n",
        "\n",
        "# Read the input .txt file for reading  and output .csv file for writing\n",
        "with open(dataset1, 'r') as txtfile, open(dataset2, 'w', newline='') as csvfile:\n",
        "    writer = csv.writer(csvfile)\n",
        "\n",
        "    #process each line in .txt file\n",
        "    for line in txtfile:\n",
        "        part = line.strip().split()# split the line into label and feature value\n",
        "        label = part[0]  # first value is the label (+1 or -1)\n",
        "        features = [part.split(\":\")[1] for part in part[1:]]  #extract only the feature value, spliting by \":\"\n",
        "\n",
        "        # Write the label and features in the csv file\n",
        "        writer.writerow([label] + features)\n",
        "\n",
        "print(f\"Data being converted and saved as {dataset2}\")\n"
      ]
    },
    {
      "cell_type": "markdown",
      "metadata": {
        "id": "AeyADoAE0YRY"
      },
      "source": [
        "**Step 2**: Data Splitting into Features and Labels"
      ]
    },
    {
      "cell_type": "markdown",
      "metadata": {
        "id": "DRPHGx21x4iv"
      },
      "source": []
    },
    {
      "cell_type": "code",
      "execution_count": 11,
      "metadata": {
        "colab": {
          "base_uri": "https://localhost:8080/"
        },
        "id": "aGrkaq1hFjU8",
        "outputId": "d0267649-6ee6-4c4c-ceec-50299a1c82f0"
      },
      "outputs": [
        {
          "name": "stdout",
          "output_type": "stream",
          "text": [
            "Shape of X (features): torch.Size([768, 8])\n",
            "Shape of y (labels): torch.Size([768, 1])\n"
          ]
        }
      ],
      "source": [
        "import pandas as pd\n",
        "import torch\n",
        "from sklearn.preprocessing import StandardScaler  # Import StandardScaler for feature normalization\n",
        "\n",
        "# Load the dataset from CSV file\n",
        "data = pd.read_csv('diabetes_scale.csv', header=None)\n",
        "\n",
        "\n",
        "# Separate features (x) and labels(y)\n",
        "X = data.iloc[:, 1:].values  # All columns except the first are features\n",
        "y = data.iloc[:, 0].values  # The first column is the label\n",
        "\n",
        "# Normalize the features using StandardScaler\n",
        "# StandardScaler standardizes features by removing the mean and scaling to unit variance\n",
        "\n",
        "scaler = StandardScaler()\n",
        "X_scaled = scaler.fit_transform(X)  #Normalized the feature data\n",
        "\n",
        "#  Convert the normalized features and labels to PyTorch tensors\n",
        "X_tensor = torch.tensor(X_scaled, dtype=torch.float32)  # contains the normalized feature values as a float32 tensor\n",
        "y_tensor = torch.tensor((y + 1) / 2, dtype=torch.float32).reshape(-1, 1)  # contains the labels converted from [-1, 1] to [0, 1]\n",
        "\n",
        "# Print the shape of the feature and label tensors to confirm successful transformation\n",
        "print(f'Shape of X (features): {X_tensor.shape}')\n",
        "print(f'Shape of y (labels): {y_tensor.shape}')\n",
        "\n"
      ]
    },
    {
      "cell_type": "markdown",
      "metadata": {
        "id": "Saimae1Z02lE"
      },
      "source": [
        "**Step3:** Splitting Data into Training and Validation Sets"
      ]
    },
    {
      "cell_type": "code",
      "execution_count": 12,
      "metadata": {
        "colab": {
          "base_uri": "https://localhost:8080/"
        },
        "id": "pZRIop3jSkmZ",
        "outputId": "319c6cf8-3306-4d5f-b7bc-6402249a0d98"
      },
      "outputs": [
        {
          "name": "stdout",
          "output_type": "stream",
          "text": [
            "Shape of X_train: torch.Size([614, 8]), Shape of y_train: torch.Size([614, 1])\n",
            "Shape of X_val: torch.Size([154, 8]), Shape of y_val: torch.Size([154, 1])\n"
          ]
        }
      ],
      "source": [
        "from sklearn.model_selection import train_test_split\n",
        "\n",
        "# Split the dataset into training  and validation sets\n",
        "X_train, X_val, y_train, y_val = train_test_split(X_tensor, y_tensor, test_size=0.2, random_state=42)\n",
        "\n",
        "# Print the shape of the training and validation\n",
        "# verify  the split was successful and the data dimensions are correct\n",
        "print(f'Shape of X_train: {X_train.shape}, Shape of y_train: {y_train.shape}')\n",
        "print(f'Shape of X_val: {X_val.shape}, Shape of y_val: {y_val.shape}')\n"
      ]
    },
    {
      "cell_type": "markdown",
      "metadata": {
        "id": "MSbJvmAJ1h_e"
      },
      "source": [
        "Step:4 Check Class Distribution"
      ]
    },
    {
      "cell_type": "code",
      "execution_count": 13,
      "metadata": {
        "colab": {
          "base_uri": "https://localhost:8080/"
        },
        "id": "Yyd6B-9wPoSH",
        "outputId": "93a58b14-9f37-4556-e88b-c5ef16168d49"
      },
      "outputs": [
        {
          "name": "stdout",
          "output_type": "stream",
          "text": [
            "Class Distribution: {0.0: 268, 1.0: 500}\n"
          ]
        }
      ],
      "source": [
        "\n",
        "#Calculate and display the distribution of classes (0 and 1) in the dataset\n",
        "# torch.unique returns unique labels\n",
        "labels, counts = torch.unique(y_tensor, return_counts=True)\n",
        "print(f'Class Distribution: {dict(zip(labels.tolist(), counts.tolist()))}')\n"
      ]
    },
    {
      "cell_type": "markdown",
      "metadata": {
        "id": "3KH163So2GZZ"
      },
      "source": [
        "Step5: Calculating Weight Class"
      ]
    },
    {
      "cell_type": "code",
      "execution_count": 14,
      "metadata": {
        "colab": {
          "base_uri": "https://localhost:8080/"
        },
        "id": "mcu6EhXUgKY5",
        "outputId": "52b4e564-ebb2-4717-d2f2-391f0628b81b"
      },
      "outputs": [
        {
          "name": "stdout",
          "output_type": "stream",
          "text": [
            "Class weights: tensor([2.8657, 1.5360])\n"
          ]
        }
      ],
      "source": [
        "# Calculate class weights\n",
        "# total_samples is the total number of samples in the dataset\n",
        "total_samples = len(y_tensor)\n",
        "# Calculate class weights: the total number of samples divided by the number of instances in each class\n",
        "class_weights = [total_samples / count for count in counts]\n",
        "# Converting the class weights into a PyTorch tensor\n",
        "class_weights = torch.tensor(class_weights, dtype=torch.float32)\n",
        "print(f'Class weights: {class_weights}')# Print the calculated class weights\n"
      ]
    },
    {
      "cell_type": "markdown",
      "metadata": {
        "id": "Yy_6zvAH3HYG"
      },
      "source": [
        "Step 6: Defineing and Instantiate Preceptron Model"
      ]
    },
    {
      "cell_type": "code",
      "execution_count": 15,
      "metadata": {
        "id": "0hJkNI9tHeJO"
      },
      "outputs": [],
      "source": [
        "import torch.nn as nn\n",
        "import torch.optim as optim\n",
        "\n",
        "# Define the Perceptron model\n",
        "class Perceptron(nn.Module):\n",
        "    def __init__(self, n_features):\n",
        "        super(Perceptron, self).__init__()\n",
        "        self.linear = nn.Linear(n_features, 1)  # Single-layer Perceptron with n_features inputs and 1 output\n",
        "\n",
        "    def forward(self, x):\n",
        "        return torch.sigmoid(self.linear(x))  # Apply the sigmoid function  for binary classification\n",
        "\n",
        "\n",
        "# Instantiate the Perceptron model\n",
        "n_features = X_tensor.shape[1]  # Number of features in the dataset\n",
        "model = Perceptron(n_features)\n",
        "\n",
        "# Define the loss function and optimizer\n",
        "# Binary Cross-Entropy Loss is suitable for binary classification problems\n",
        "criterion = nn.BCELoss()  # Binary Cross-Entropy Loss\n",
        "optimizer = optim.SGD(model.parameters(), lr=0.01)  # Stochastic Gradient Descent with a learning rate of 0.01\n"
      ]
    },
    {
      "cell_type": "markdown",
      "metadata": {
        "id": "XundY77T4bEl"
      },
      "source": [
        "Step 7: Transform Labels for Binary Cross-Entropy"
      ]
    },
    {
      "cell_type": "code",
      "execution_count": 16,
      "metadata": {
        "id": "27MW-unyNNiT"
      },
      "outputs": [],
      "source": [
        "# Transform labels from [-1, 1] to [0, 1] (because BCE expects 0/1 labels)\n",
        "\n",
        "# Binary Cross-Entropy Loss expects labels to be either 0 or 1.\n",
        "# the original labels are in the range [-1, 1], we transform them to [0, 1].\n",
        "# applying the transformation (y + 1) / 2, which convert -1 to 0 and 1 to 1.\n",
        "y_tensor = torch.tensor((y + 1) / 2, dtype=torch.float32).reshape(-1, 1)\n",
        "\n"
      ]
    },
    {
      "cell_type": "markdown",
      "metadata": {
        "id": "mI81Rj0T49uO"
      },
      "source": [
        "Step8: Checking Tensor Shapes and varifying the datas"
      ]
    },
    {
      "cell_type": "code",
      "execution_count": 17,
      "metadata": {
        "colab": {
          "base_uri": "https://localhost:8080/"
        },
        "id": "qfPJFA8MPXu-",
        "outputId": "10124b21-4a35-45c0-a2c5-df06defdd5be"
      },
      "outputs": [
        {
          "name": "stdout",
          "output_type": "stream",
          "text": [
            "Shape of X (features): torch.Size([768, 8])\n",
            "Shape of y (labels): torch.Size([768, 1])\n"
          ]
        }
      ],
      "source": [
        "# Print the shape of the feature and label tensors to ensure they are correctly formatted for training\n",
        "print(f'Shape of X (features): {X_tensor.shape}')  # (num_samples, num_features)\n",
        "print(f'Shape of y (labels): {y_tensor.shape}')    # (num_samples, 1)\n"
      ]
    },
    {
      "cell_type": "code",
      "execution_count": 18,
      "metadata": {
        "colab": {
          "base_uri": "https://localhost:8080/"
        },
        "id": "hQutXkT3Px_8",
        "outputId": "f986941a-dd16-47df-dec9-22b9cfff133c"
      },
      "outputs": [
        {
          "name": "stdout",
          "output_type": "stream",
          "text": [
            "The First 5 rows of features:\n",
            "tensor([[ 6.3995e-01,  8.4832e-01,  1.5250e-01,  9.0727e-01, -6.9483e-01,\n",
            "          2.0588e-01,  4.6147e-01,  1.4568e+00],\n",
            "        [-8.4488e-01, -1.1234e+00, -1.5517e-01,  5.3090e-01, -6.9483e-01,\n",
            "         -6.7490e-01, -3.6832e-01, -1.7380e-01],\n",
            "        [ 1.2339e+00,  1.9437e+00, -2.5773e-01, -1.2882e+00, -6.9483e-01,\n",
            "         -1.0901e+00,  5.9676e-01, -8.7971e-02],\n",
            "        [-8.4488e-01, -9.9821e-01, -1.5517e-01,  1.5453e-01,  1.1959e-01,\n",
            "         -4.8616e-01, -9.2151e-01, -1.0320e+00],\n",
            "        [-1.1419e+00,  5.0405e-01, -1.4884e+00,  9.0727e-01,  7.6073e-01,\n",
            "          1.4012e+00,  5.4552e+00, -2.1483e-03]])\n",
            "First 5 labels:\n",
            "tensor([[0.],\n",
            "        [1.],\n",
            "        [0.],\n",
            "        [1.],\n",
            "        [0.]])\n"
          ]
        }
      ],
      "source": [
        "# Print the first 5 rows of features and labels to inspect the data structure\n",
        "print('The First 5 rows of features:')\n",
        "print(X_tensor[:5])\n",
        "\n",
        "# Print the first 5 rows of the label tensor to verify the label transformation\n",
        "print('First 5 labels:')\n",
        "print(y_tensor[:5])\n"
      ]
    },
    {
      "cell_type": "markdown",
      "metadata": {
        "id": "wgVhGRqc6yXH"
      },
      "source": [
        "Step 9: Checking and removing NaN Values in Features and Labels and replacing it"
      ]
    },
    {
      "cell_type": "code",
      "execution_count": 19,
      "metadata": {
        "colab": {
          "base_uri": "https://localhost:8080/"
        },
        "id": "rakXLfdBRFgM",
        "outputId": "ed8664f9-10e9-4873-bfb0-7cb6b1969252"
      },
      "outputs": [
        {
          "name": "stdout",
          "output_type": "stream",
          "text": [
            "Any NaNs in features: True\n",
            "Any NaNs in labels: False\n"
          ]
        }
      ],
      "source": [
        "#Checking for NaN Values in Features and Labels\n",
        "\n",
        "print(f'Any NaNs in features: {torch.isnan(X_tensor).any()}')\n",
        "print(f'Any NaNs in labels: {torch.isnan(y_tensor).any()}')\n"
      ]
    },
    {
      "cell_type": "code",
      "execution_count": 20,
      "metadata": {
        "id": "7pFlKecpRGA6"
      },
      "outputs": [],
      "source": [
        "# Remove rows with NaN\n",
        "# Create a mask to filter out rows where any feature contains NaN values\n",
        "\n",
        "mask = ~torch.isnan(X_tensor).any(dim=1)\n",
        "\n",
        "# Apply the mask to both the feature and label tensors\n",
        "X_tensor = X_tensor[mask]  # Keep only rows without NaNs\n",
        "y_tensor = y_tensor[mask]  # Ensure labels match the filtered features\n"
      ]
    },
    {
      "cell_type": "code",
      "execution_count": 21,
      "metadata": {
        "id": "UNaHKoR1RPIt"
      },
      "outputs": [],
      "source": [
        "# Replace NaN values with the mean of each feature\n",
        "nan_mask = torch.isnan(X_tensor)\n",
        "\n",
        "# Compute mean of each feature ignoring NaNs\n",
        "mean_values = torch.nanmean(X_tensor, dim=0)\n",
        "X_tensor[nan_mask] = torch.take(mean_values, nan_mask.nonzero()[:, 1])  # Replace NaNs with the corresponding feature's mean\n"
      ]
    },
    {
      "cell_type": "code",
      "execution_count": 22,
      "metadata": {
        "id": "aTNdh1WIRRK6"
      },
      "outputs": [],
      "source": [
        "# OR Replace NaNs with zeros\n",
        "# Missing values are replaced with zeros\n",
        "X_tensor = torch.nan_to_num(X_tensor, nan=0.0)\n"
      ]
    },
    {
      "cell_type": "code",
      "execution_count": 23,
      "metadata": {
        "colab": {
          "base_uri": "https://localhost:8080/"
        },
        "id": "zfU3rwyzQwrX",
        "outputId": "d1bdf82a-112c-43e6-db7b-085e81fc3b98"
      },
      "outputs": [
        {
          "name": "stdout",
          "output_type": "stream",
          "text": [
            "Model outputs: min output = 0.17962487041950226, max output= 0.8905014991760254\n"
          ]
        }
      ],
      "source": [
        "# Pass the feature tensor through the model to get the predicted outputs\n",
        "output = model(X_tensor)\n",
        "# This gives insight into the range of predictions which should ideally be between 0 and 1\n",
        "print(f'Model outputs: min output = {output.min().item()}, max output= {output.max().item()}')\n",
        "\n",
        "#loss = criterion(outputs, y_tensor)\n"
      ]
    },
    {
      "cell_type": "markdown",
      "metadata": {
        "id": "ETomo3Li-Fq9"
      },
      "source": [
        "Step 10:Check for NaNs in Features After Handling"
      ]
    },
    {
      "cell_type": "code",
      "execution_count": 24,
      "metadata": {
        "colab": {
          "base_uri": "https://localhost:8080/"
        },
        "id": "t54QdPfVQ1Oc",
        "outputId": "45c3755f-8c63-4c88-dc68-f19d7327ef93"
      },
      "outputs": [
        {
          "name": "stdout",
          "output_type": "stream",
          "text": [
            "Any NaNs in features after handling: False\n"
          ]
        }
      ],
      "source": [
        "print(f'Any NaNs in features after handling: {torch.isnan(X_tensor).any()}') #Checking for any NaN Value\n"
      ]
    },
    {
      "cell_type": "markdown",
      "metadata": {
        "id": "yxmdl-iL-TSq"
      },
      "source": [
        "Step 11: Define the Model, Loss Function, and Optimizer"
      ]
    },
    {
      "cell_type": "code",
      "execution_count": 36,
      "metadata": {
        "colab": {
          "base_uri": "https://localhost:8080/"
        },
        "id": "jFZteiV0RVe5",
        "outputId": "6a451fa2-9e00-421c-fc7a-4eb6845f5928"
      },
      "outputs": [
        {
          "name": "stdout",
          "output_type": "stream",
          "text": [
            "Epoch [100/1000], Loss: 0.6846\n",
            "Epoch [200/1000], Loss: 0.5966\n",
            "Epoch [300/1000], Loss: 0.5543\n",
            "Epoch [400/1000], Loss: 0.5305\n",
            "Epoch [500/1000], Loss: 0.5155\n",
            "Epoch [600/1000], Loss: 0.5054\n",
            "Epoch [700/1000], Loss: 0.4981\n",
            "Epoch [800/1000], Loss: 0.4927\n",
            "Epoch [900/1000], Loss: 0.4886\n",
            "Epoch [1000/1000], Loss: 0.4854\n"
          ]
        }
      ],
      "source": [
        "# Define the model, loss function, and optimizer\n",
        "\n",
        "# Initializing the Perceptron model with the number of features in the dataset\n",
        "model = Perceptron(n_features=X_tensor.shape[1])\n",
        "\n",
        "# Defining the loss function Binary Cross-Entropy Loss\n",
        "criterion = nn.BCELoss()\n",
        "\n",
        "# Define the optimizer with a learning rate of 0.01\n",
        "optimizer = optim.SGD(model.parameters(), lr=0.01)  # Stochastic Gradient Descent optimizer\n",
        "\n",
        "# Training\n",
        "# n_iters sets the number of training iterations\n",
        "n_iters = 1000  # (epochs)\n",
        "loss_values = []        # Initialize list for storing loss values\n",
        "accuracy_values = []    # Initialize list for storing accuracy values\n",
        "\n",
        "for epoch in range(n_iters):\n",
        "    # forward pass: Compute predictions\n",
        "    outputs = model(X_tensor)  # Outputs should be in [0, 1] range\n",
        "\n",
        "    # Compute the loss between predictions and true labels\n",
        "    loss = criterion(outputs, y_tensor)\n",
        "\n",
        "    # Backward pass: Calculate gradients and optimization\n",
        "    optimizer.zero_grad()  # Clear the gradients from the previous step\n",
        "    loss.backward()  # Backpropagate the loss\n",
        "    optimizer.step()  # Update model parameters (i.e. weights)\n",
        "\n",
        "    # Store loss and accuracy for plotting\n",
        "    loss_values.append(loss.item())\n",
        "    predictions = (outputs >= 0.5).float()\n",
        "    accuracy = torch.mean((predictions == y_tensor).float()).item()\n",
        "    accuracy_values.append(accuracy)\n",
        "\n",
        "    # Print progress every 100 epochs to monitor progress\n",
        "    if (epoch + 1) % 100 == 0:\n",
        "        print(f'Epoch [{epoch+1}/{n_iters}], Loss: {loss.item():.4f}')\n"
      ]
    },
    {
      "cell_type": "markdown",
      "metadata": {
        "id": "xxEopurHAK8_"
      },
      "source": [
        "Step 12: Defining and making predictions and calculating accuracy\n"
      ]
    },
    {
      "cell_type": "markdown",
      "metadata": {
        "id": "fRqIiaK0RuUV"
      },
      "source": []
    },
    {
      "cell_type": "code",
      "execution_count": 27,
      "metadata": {
        "colab": {
          "base_uri": "https://localhost:8080/"
        },
        "id": "CZPE88enRvXE",
        "outputId": "1d24a9ec-2c30-4f97-c011-527a7df7eb75"
      },
      "outputs": [
        {
          "name": "stdout",
          "output_type": "stream",
          "text": [
            "Accuracy: 77.08%\n"
          ]
        }
      ],
      "source": [
        "# Predict function: Convert outputs to binary class (0 or 1) using a 0.5 threshold\n",
        "def predict(model, X):\n",
        "    outputs = model(X)# Get model outputs\n",
        "    predictions = (outputs >= 0.5).float()  # Apply threshold of 0.5 to get binary predictions in [0, 1]range\n",
        "    return predictions\n",
        "\n",
        "# Make predictions on the training data\n",
        "y_pred = predict(model, X_tensor)# Useing the predict function to make predictions on the training data\n",
        "\n",
        "# Compute accuracy\n",
        "accuracy = torch.mean((y_pred == y_tensor).float()) # calculateing mean accuracy as the proportion of correct predictions\n",
        "print(f'Accuracy: {accuracy.item() * 100:.2f}%') # Print the accuracy as a percentage\n",
        "\n"
      ]
    },
    {
      "cell_type": "code",
      "execution_count": 37,
      "metadata": {
        "colab": {
          "base_uri": "https://localhost:8080/",
          "height": 564
        },
        "id": "MGfAu3lbaOCQ",
        "outputId": "07e15380-6e97-476b-e7c0-6ed90cdc0a77"
      },
      "outputs": [
        {
          "data": {
            "image/png": "[encoded data removed]",
            "text/plain": [
              "<Figure size 800x600 with 1 Axes>"
            ]
          },
          "metadata": {},
          "output_type": "display_data"
        }
      ],
      "source": [
        "#  Plot Accuracy vs. Epochs\n",
        "import torch.nn as nn\n",
        "import torch.optim as optim\n",
        "plt.figure(figsize=(8, 6))\n",
        "plt.plot(range(n_iters), accuracy_values)\n",
        "plt.title('Training Accuracy Over Epochs')\n",
        "plt.xlabel('Epochs')\n",
        "plt.ylabel('Accuracy (%)')\n",
        "plt.show()"
      ]
    },
    {
      "cell_type": "code",
      "execution_count": 38,
      "metadata": {
        "colab": {
          "base_uri": "https://localhost:8080/",
          "height": 564
        },
        "id": "51sokIQGbSiy",
        "outputId": "7e326671-3633-4fb7-ed3d-05b34f0c5402"
      },
      "outputs": [
        {
          "data": {
            "image/png": "[encoded data removed]",
            "text/plain": [
              "<Figure size 600x600 with 2 Axes>"
            ]
          },
          "metadata": {},
          "output_type": "display_data"
        }
      ],
      "source": [
        "#Confused Matrix Analysis\n",
        "cm = confusion_matrix(y_tensor.numpy(), y_pred.numpy())\n",
        "plt.figure(figsize=(6, 6))\n",
        "sns.heatmap(cm, annot=True, fmt=\"d\", cmap=\"Blues\")\n",
        "plt.title('Confusion Matrix')\n",
        "plt.xlabel('Predicted')\n",
        "plt.ylabel('Actual')\n",
        "plt.show()"
      ]
    },
    {
      "cell_type": "code",
      "execution_count": 39,
      "metadata": {
        "colab": {
          "base_uri": "https://localhost:8080/",
          "height": 564
        },
        "id": "djPU6lAcbaxF",
        "outputId": "86a0261d-78a3-4e7f-fda2-4bbb1930196a"
      },
      "outputs": [
        {
          "data": {
            "image/png": "[encoded data removed]",
            "text/plain": [
              "<Figure size 800x600 with 1 Axes>"
            ]
          },
          "metadata": {},
          "output_type": "display_data"
        }
      ],
      "source": [
        "import matplotlib.pyplot as plt\n",
        "import seaborn as sns\n",
        "# Assuming that glucose level is first feature (index 0)\n",
        "glucose_levels = X_tensor[:, 0].numpy()  # Extracting the glucose levels from the feature tensor\n",
        "\n",
        "# Plotting distribution of glucose levels\n",
        "plt.figure(figsize=(8, 6))\n",
        "sns.histplot(glucose_levels, bins=20, kde=True)\n",
        "plt.title('Distribution of Glucose Levels')\n",
        "plt.xlabel('Glucose Level')\n",
        "plt.ylabel('Frequency')\n",
        "plt.show()"
      ]
    },
    {
      "cell_type": "code",
      "execution_count": null,
      "metadata": {
        "id": "ZebY5Q1Sbdq1"
      },
      "outputs": [],
      "source": []
    },
    {
      "cell_type": "code",
      "execution_count": null,
      "metadata": {
        "id": "pwzupKrObGs-"
      },
      "outputs": [],
      "source": []
    },
    {
      "cell_type": "code",
      "execution_count": null,
      "metadata": {
        "id": "Jtr8TIDfaP-r"
      },
      "outputs": [],
      "source": []
    },
    {
      "cell_type": "markdown",
      "metadata": {
        "id": "3iV0nxS8Pw7a"
      },
      "source": []
    }
  ],
  "metadata": {
    "colab": {
      "provenance": []
    },
    "kernelspec": {
      "display_name": "Python 3",
      "language": "python",
      "name": "python3"
    },
    "language_info": {
      "codemirror_mode": {
        "name": "ipython",
        "version": 3
      },
      "file_extension": ".py",
      "mimetype": "text/x-python",
      "name": "python",
      "nbconvert_exporter": "python",
      "pygments_lexer": "ipython3",
      "version": "3.9.7"
    }
  },
  "nbformat": 4,
  "nbformat_minor": 0
}
